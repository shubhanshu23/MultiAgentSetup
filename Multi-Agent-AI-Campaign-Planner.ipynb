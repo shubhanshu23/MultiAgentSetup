{
 "cells": [
  {
   "cell_type": "markdown",
   "id": "455cb588",
   "metadata": {},
   "source": [
    "# Multi-Agent AI Campaign Planning System on AWS\n",
    "\n",
    "## Introduction\n",
    "This notebook deploys a multi-agent AI campaign planning system using AWS services (Bedrock, SageMaker, Lambda, Step Functions, etc.), fully deploys and configures all required AWS resources, and supports both Gen-Z and enterprise use cases. Realistic dummy data and templates for consumer and business audiences are included."
   ]
  },
  {
   "cell_type": "markdown",
   "id": "b0aac640",
   "metadata": {},
   "source": [
    "## 1. Setup AWS Environment"
   ]
  },
  {
   "cell_type": "code",
   "execution_count": null,
   "id": "67db1754",
   "metadata": {},
   "outputs": [],
   "source": [
    "\n",
    "# Set AWS credentials and region securely\n",
    "import os\n",
    "os.environ['AWS_ACCESS_KEY_ID'] = 'YOUR_AWS_ACCESS_KEY'\n",
    "os.environ['AWS_SECRET_ACCESS_KEY'] = 'YOUR_AWS_SECRET_KEY'\n",
    "os.environ['AWS_DEFAULT_REGION'] = 'us-east-1'  # Ensure Bedrock support\n"
   ]
  },
  {
   "cell_type": "code",
   "execution_count": null,
   "id": "7e74657f",
   "metadata": {},
   "outputs": [],
   "source": [
    "\n",
    "# Install required libraries\n",
    "!pip install boto3\n"
   ]
  },
  {
   "cell_type": "markdown",
   "id": "943ccdaf",
   "metadata": {},
   "source": [
    "## 2. Provision AWS Resources\n",
    "\n",
    "### 2.1 Create S3 Buckets"
   ]
  },
  {
   "cell_type": "code",
   "execution_count": null,
   "id": "811a3ea4",
   "metadata": {},
   "outputs": [],
   "source": [
    "\n",
    "import boto3, json, random, string\n",
    "\n",
    "region = os.environ.get('AWS_DEFAULT_REGION', 'us-east-1')\n",
    "s3 = boto3.client('s3', region_name=region)\n",
    "\n",
    "suffix = ''.join(random.choice(string.ascii_lowercase + string.digits) for _ in range(6))\n",
    "briefs_bucket = f\"ai-campaign-briefs-{suffix}\"\n",
    "assets_bucket = f\"ai-campaign-assets-{suffix}\"\n",
    "\n",
    "for bucket in [briefs_bucket, assets_bucket]:\n",
    "    s3.create_bucket(Bucket=bucket, CreateBucketConfiguration={'LocationConstraint': region})\n",
    "    print(f\"Created bucket: {bucket}\")\n"
   ]
  },
  {
   "cell_type": "markdown",
   "id": "cb561d74",
   "metadata": {},
   "source": [
    "### 2.2 Create DynamoDB Table"
   ]
  },
  {
   "cell_type": "code",
   "execution_count": null,
   "id": "41d9deac",
   "metadata": {},
   "outputs": [],
   "source": [
    "\n",
    "dynamodb = boto3.client('dynamodb', region_name=region)\n",
    "\n",
    "table_name = f\"AI_CampaignData_{suffix}\"\n",
    "table_resp = dynamodb.create_table(\n",
    "    TableName=table_name,\n",
    "    AttributeDefinitions=[\n",
    "        {\"AttributeName\": \"campaign_id\", \"AttributeType\": \"S\"},\n",
    "        {\"AttributeName\": \"step\", \"AttributeType\": \"S\"}\n",
    "    ],\n",
    "    KeySchema=[\n",
    "        {\"AttributeName\": \"campaign_id\", \"KeyType\": \"HASH\"},\n",
    "        {\"AttributeName\": \"step\", \"KeyType\": \"RANGE\"}\n",
    "    ],\n",
    "    BillingMode='PAY_PER_REQUEST'\n",
    ")\n",
    "dynamodb.get_waiter('table_exists').wait(TableName=table_name)\n",
    "print(f\"DynamoDB Table created: {table_name}\")\n"
   ]
  },
  {
   "cell_type": "markdown",
   "id": "4136909f",
   "metadata": {},
   "source": [
    "### 2.3 Populate Dummy Brief to S3"
   ]
  },
  {
   "cell_type": "code",
   "execution_count": null,
   "id": "dad6fd04",
   "metadata": {},
   "outputs": [],
   "source": [
    "\n",
    "campaign_brief = {\n",
    "    \"campaign_id\": \"CAMPAIGN123\",\n",
    "    \"campaign_name\": \"GenZ Social Hype 2025\",\n",
    "    \"target_audience\": \"Gen-Z\",\n",
    "    \"product\": \"Tech Gadget X\",\n",
    "    \"objectives\": \"Drive brand engagement among Gen-Z.\",\n",
    "    \"key_messages\": \"Innovative, trendy, community-driven.\",\n",
    "    \"channels\": \"social_media\",\n",
    "    \"timeline\": \"Q3 2025\",\n",
    "    \"budget\": \"50k USD\"\n",
    "}\n",
    "\n",
    "brief_key = \"sample_brief_genz.json\"\n",
    "s3.put_object(Bucket=briefs_bucket, Key=brief_key, Body=json.dumps(campaign_brief))\n",
    "print(f\"Uploaded brief to s3://{briefs_bucket}/{brief_key}\")\n"
   ]
  },
  {
   "cell_type": "markdown",
   "id": "839e2bff",
   "metadata": {},
   "source": [
    "## 3. Validate Setup\n",
    "Check S3 buckets and DynamoDB table creation."
   ]
  },
  {
   "cell_type": "code",
   "execution_count": null,
   "id": "e6ac9164",
   "metadata": {},
   "outputs": [],
   "source": [
    "\n",
    "print(\"Buckets:\", [bucket['Name'] for bucket in s3.list_buckets()['Buckets']])\n",
    "print(\"DynamoDB Tables:\", dynamodb.list_tables()['TableNames'])\n"
   ]
  },
  {
   "cell_type": "markdown",
   "id": "0153bfb1",
   "metadata": {},
   "source": [
    "## Next Steps\n",
    "\n",
    "Continue by creating Lambda functions, Step Functions workflow, and setting up Kendra and SNS according to the provided comprehensive notebook content. Ensure proper IAM permissions are configured.\n",
    "\n",
    "Replace placeholders (`YOUR_AWS_ACCESS_KEY`, `YOUR_AWS_SECRET_KEY`) securely, ideally using IAM roles."
   ]
  }
 ],
 "metadata": {},
 "nbformat": 4,
 "nbformat_minor": 5
}
