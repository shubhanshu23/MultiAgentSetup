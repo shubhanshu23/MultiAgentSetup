{
 "cells": [
  {
   "cell_type": "markdown",
   "id": "96d1b86c",
   "metadata": {},
   "source": [
    "# Multi-Agent AI Campaign Planning System on AWS\n",
    "\n",
    "Marketing campaigns often involve complex, multi-step planning processes that can benefit from AI automation. In this solution, we deploy a **multi-agent AI campaign planning system** on AWS. The system coordinates multiple specialized AI agents to take a marketing brief from input to a full campaign plan, using AWS’s serverless and AI services."
   ]
  },
  {
   "cell_type": "markdown",
   "id": "529db2c0",
   "metadata": {},
   "source": [
    "## Introduction\n",
    "\n",
    "In this notebook, we deploy a multi-agent AI campaign planning system on AWS. By leveraging Amazon Bedrock foundation models (e.g., Anthropic Claude, Amazon Titan) for AI tasks and AWS Step Functions for orchestration, we enable specialized agents (running as Lambda functions) to collaborate seamlessly. Supporting services—S3, DynamoDB, Kendra, SNS, and IAM—provide storage, state management, knowledge retrieval, notifications, and secure roles, respectively."
   ]
  },
  {
   "cell_type": "markdown",
   "id": "e1462075",
   "metadata": {},
   "source": [
    "## Architecture and Components\n",
    "\n",
    "- **Amazon Bedrock Models (Claude, Titan)** – Generative AI for each agent.\n",
    "- **AWS Lambda Functions (Agents 0–5)** – Input extractor, business interpreter, campaign planner, content generator, channel strategist, evaluator.\n",
    "- **AWS Step Functions** – Orchestrates the workflow (Agent0 → Agent1 → ... → Agent5).\n",
    "- **Amazon S3** – Stores campaign briefs and generated assets.\n",
    "- **Amazon DynamoDB** – Persists intermediate and final campaign data (on-demand billing).\n",
    "- **Amazon Kendra** – Knowledge base for RAG, indexing marketing documents.\n",
    "- **Amazon SNS** – Notifications on success/failure.\n",
    "- **AWS IAM** – Least-privilege roles for Lambdas and Step Functions."
   ]
  },
  {
   "cell_type": "markdown",
   "id": "186f3c7c",
   "metadata": {},
   "source": [
    "## Setup Instructions (AWS Access & Environment)\n",
    "\n",
    "Ensure you have AWS programmatic access with permissions to create IAM roles, Lambdas, Step Functions, S3 buckets, DynamoDB tables, Kendra indexes, and SNS topics. Avoid hard-coding secrets—use environment variables or AWS config files.\n",
    "\n",
    "### AWS Credentials and Region\n"
   ]
  },
  {
   "cell_type": "code",
   "execution_count": null,
   "id": "4cc4d1cd",
   "metadata": {},
   "outputs": [],
   "source": [
    "import os\n",
    "# Set AWS credentials (avoid hard-coding in production)\n",
    "os.environ['AWS_ACCESS_KEY_ID'] = 'AKIA...YOURKEY'\n",
    "os.environ['AWS_SECRET_ACCESS_KEY'] = 'YOURSECRET'\n",
    "os.environ['AWS_DEFAULT_REGION'] = 'us-east-1'  # Use a Bedrock & Kendra supported region"
   ]
  },
  {
   "cell_type": "markdown",
   "id": "2d238472",
   "metadata": {},
   "source": [
    "## 1. Provision AWS Resources\n",
    "\n",
    "### 1.1 Create S3 Buckets for Briefs and Assets\n"
   ]
  },
  {
   "cell_type": "code",
   "execution_count": null,
   "id": "81f96892",
   "metadata": {},
   "outputs": [],
   "source": [
    "import boto3, random, string\n",
    "\n",
    "region = os.environ['AWS_DEFAULT_REGION']\n",
    "s3 = boto3.client('s3', region_name=region)\n",
    "\n",
    "# Unique bucket names (modify suffix as needed)\n",
    "suffix = ''.join(random.choice(string.ascii_lowercase + string.digits) for _ in range(6))\n",
    "briefs_bucket = f\"ai-campaign-briefs-{suffix}\"\n",
    "assets_bucket = f\"ai-campaign-assets-{suffix}\"\n",
    "\n",
    "for bucket in [briefs_bucket, assets_bucket]:\n",
    "    try:\n",
    "        s3.create_bucket(\n",
    "            Bucket=bucket,\n",
    "            CreateBucketConfiguration={'LocationConstraint': region}\n",
    "        )\n",
    "        print(f\"Created bucket: {bucket}\")\n",
    "    except Exception as e:\n",
    "        print(f\"Bucket creation error: {e}\")"
   ]
  },
  {
   "cell_type": "markdown",
   "id": "3571c8e9",
   "metadata": {},
   "source": [
    "### 1.2 Upload Dummy Marketing Brief\n"
   ]
  },
  {
   "cell_type": "code",
   "execution_count": null,
   "id": "026b4557",
   "metadata": {},
   "outputs": [],
   "source": [
    "import json\n",
    "\n",
    "# Dummy marketing brief\n",
    "campaign_brief = {\n",
    "    \"campaign_id\": \"CAMPAIGN123\",\n",
    "    \"campaign_name\": \"GenZ Social Hype 2025\",\n",
    "    \"target_audience\": \"Gen-Z\",\n",
    "    \"product\": \"Tech Gadget X\",\n",
    "    \"objectives\": \"Drive brand engagement and social buzz among Gen-Z users for Tech Gadget X launch.\",\n",
    "    \"key_messages\": \"Trendy, innovative, sustainable; speak the Gen-Z lingo.\",\n",
    "    \"channels\": \"social_media\",\n",
    "    \"timeline\": \"Q3 2025\",\n",
    "    \"budget\": \"50k USD\"\n",
    "}\n",
    "brief_key = \"sample_brief_genz.json\"\n",
    "s3.put_object(Bucket=briefs_bucket, Key=brief_key, Body=json.dumps(campaign_brief))\n",
    "print(f\"Uploaded dummy brief to s3://{briefs_bucket}/{brief_key}\")"
   ]
  },
  {
   "cell_type": "markdown",
   "id": "7fcdb8f6",
   "metadata": {},
   "source": [
    "### 1.3 Create DynamoDB Table for Campaign Data\n"
   ]
  },
  {
   "cell_type": "code",
   "execution_count": null,
   "id": "6c7fa3ba",
   "metadata": {},
   "outputs": [],
   "source": [
    "dynamodb = boto3.client('dynamodb', region_name=region)\n",
    "table_name = f\"AI_CampaignData_{suffix}\"\n",
    "\n",
    "dynamodb.create_table(\n",
    "    TableName=table_name,\n",
    "    AttributeDefinitions=[\n",
    "        {\"AttributeName\": \"campaign_id\", \"AttributeType\": \"S\"},\n",
    "        {\"AttributeName\": \"step\", \"AttributeType\": \"S\"}\n",
    "    ],\n",
    "    KeySchema=[\n",
    "        {\"AttributeName\": \"campaign_id\", \"KeyType\": \"HASH\"},\n",
    "        {\"AttributeName\": \"step\", \"KeyType\": \"RANGE\"}\n",
    "    ],\n",
    "    BillingMode='PAY_PER_REQUEST'\n",
    ")\n",
    "dynamodb.get_waiter('table_exists').wait(TableName=table_name)\n",
    "print(f\"DynamoDB table created: {table_name}\")"
   ]
  },
  {
   "cell_type": "markdown",
   "id": "96a0c99b",
   "metadata": {},
   "source": [
    "### 1.4 Set Up Amazon Kendra (Knowledge Base Index)\n"
   ]
  },
  {
   "cell_type": "code",
   "execution_count": null,
   "id": "ab68eabd",
   "metadata": {},
   "outputs": [],
   "source": [
    "iam = boto3.client('iam')\n",
    "kendra = boto3.client('kendra', region_name=region)\n",
    "\n",
    "# Create IAM role for Kendra\n",
    "trust_policy = {\n",
    "    \"Version\": \"2012-10-17\",\n",
    "    \"Statement\": [{\n",
    "        \"Effect\": \"Allow\",\n",
    "        \"Principal\": {\"Service\": \"kendra.amazonaws.com\"},\n",
    "        \"Action\": \"sts:AssumeRole\"\n",
    "    }]\n",
    "}\n",
    "role_resp = iam.create_role(\n",
    "    RoleName=f\"KendraIndexRole-{suffix}\",\n",
    "    AssumeRolePolicyDocument=json.dumps(trust_policy),\n",
    "    Description=\"Role for Kendra index to access S3\"\n",
    ")\n",
    "iam.attach_role_policy(\n",
    "    RoleName=role_resp['Role']['RoleName'],\n",
    "    PolicyArn=\"arn:aws:iam::aws:policy/AmazonKendraReadOnlyAccess\"\n",
    ")\n",
    "iam.attach_role_policy(\n",
    "    RoleName=role_resp['Role']['RoleName'],\n",
    "    PolicyArn=\"arn:aws:iam::aws:policy/CloudWatchLogsFullAccess\"\n",
    ")\n",
    "kendra_role_arn = role_resp['Role']['Arn']\n",
    "print(f\"Created Kendra IAM role: {kendra_role_arn}\")\n",
    "\n",
    "# Create Kendra index\n",
    "index_resp = kendra.create_index(\n",
    "    Name=f\"CampaignKnowledgeBase-{suffix}\",\n",
    "    RoleArn=kendra_role_arn,\n",
    "    Edition=\"DEVELOPER_EDITION\"\n",
    ")\n",
    "index_id = index_resp['Id']\n",
    "print(f\"Creating Kendra index (ID: {index_id})...\")\n",
    "kendra.get_waiter('index_created').wait(Id=index_id)\n",
    "print(\"Kendra index is active.\")"
   ]
  },
  {
   "cell_type": "markdown",
   "id": "1d1049d3",
   "metadata": {},
   "source": [
    "### 1.5 Add Dummy Documents to Kendra\n"
   ]
  },
  {
   "cell_type": "code",
   "execution_count": null,
   "id": "619b4467",
   "metadata": {},
   "outputs": [],
   "source": [
    "# Ingest dummy documents into Kendra\n",
    "documents = [\n",
    "    {\n",
    "        \"Id\": \"doc1\",\n",
    "        \"Title\": \"GenZ Social Media Trends 2024\",\n",
    "        \"Blob\": b\"Gen Z audiences heavily use TikTok, Instagram, and YouTube. Authenticity and social causes drive engagement...\",\n",
    "        \"ContentType\": \"PLAIN_TEXT\"\n",
    "    },\n",
    "    {\n",
    "        \"Id\": \"doc2\",\n",
    "        \"Title\": \"B2B SaaS Lead Gen Best Practices\",\n",
    "        \"Blob\": b\"Enterprise marketing relies on LinkedIn, webinars, and whitepapers. Emphasize ROI, case studies...\",\n",
    "        \"ContentType\": \"PLAIN_TEXT\"\n",
    "    }\n",
    "]\n",
    "resp = kendra.batch_put_document(IndexId=index_id, Documents=documents)\n",
    "print(\"Added dummy documents to Kendra index.\")"
   ]
  },
  {
   "cell_type": "markdown",
   "id": "be621191",
   "metadata": {},
   "source": [
    "### 1.6 Create SNS Topic for Notifications\n"
   ]
  },
  {
   "cell_type": "code",
   "execution_count": null,
   "id": "ffbf79e2",
   "metadata": {},
   "outputs": [],
   "source": [
    "sns = boto3.client('sns', region_name=region)\n",
    "topic_resp = sns.create_topic(Name=f\"CampaignCompletionTopic-{suffix}\")\n",
    "topic_arn = topic_resp['TopicArn']\n",
    "print(f\"Created SNS topic: {topic_arn}\")"
   ]
  },
  {
   "cell_type": "markdown",
   "id": "c8c2b873",
   "metadata": {},
   "source": [
    "### 1.7 Create IAM Roles for Lambda and Step Functions\n"
   ]
  },
  {
   "cell_type": "code",
   "execution_count": null,
   "id": "93505cd7",
   "metadata": {},
   "outputs": [],
   "source": [
    "# Lambda execution role\n",
    "lambda_role = iam.create_role(\n",
    "    RoleName=f\"CampaignAgentLambdaRole-{suffix}\",\n",
    "    AssumeRolePolicyDocument=json.dumps({\n",
    "        \"Version\": \"2012-10-17\",\n",
    "        \"Statement\": [{\n",
    "            \"Effect\": \"Allow\",\n",
    "            \"Principal\": {\"Service\": \"lambda.amazonaws.com\"},\n",
    "            \"Action\": \"sts:AssumeRole\"\n",
    "        }]\n",
    "    }),\n",
    "    Description=\"Lambda execution role for AI campaign agents\"\n",
    ")\n",
    "lambda_role_arn = lambda_role['Role']['Arn']\n",
    "iam.attach_role_policy(\n",
    "    RoleName=lambda_role['Role']['RoleName'],\n",
    "    PolicyArn=\"arn:aws:iam::aws:policy/service-role/AWSLambdaBasicExecutionRole\"\n",
    ")\n",
    "print(f\"Created Lambda IAM role: {lambda_role_arn}\")\n",
    "\n",
    "# Step Functions execution role\n",
    "sf_role = iam.create_role(\n",
    "    RoleName=f\"StepFunctionRole-{suffix}\",\n",
    "    AssumeRolePolicyDocument=json.dumps({\n",
    "        \"Version\": \"2012-10-17\",\n",
    "        \"Statement\": [{\n",
    "            \"Effect\": \"Allow\",\n",
    "            \"Principal\": {\"Service\": \"states.amazonaws.com\"},\n",
    "            \"Action\": \"sts:AssumeRole\"\n",
    "        }]\n",
    "    }),\n",
    "    Description=\"Step Functions workflow role\"\n",
    ")\n",
    "sf_role_arn = sf_role['Role']['Arn']\n",
    "# Attach policies to sf_role as needed (invoke Lambda & publish SNS)\n",
    "policy = {\n",
    "    \"Version\": \"2012-10-17\",\n",
    "    \"Statement\": [\n",
    "        {\"Effect\": \"Allow\", \"Action\": \"lambda:InvokeFunction\", \"Resource\": \"*\"},\n",
    "        {\"Effect\": \"Allow\", \"Action\": \"sns:Publish\", \"Resource\": topic_arn},\n",
    "        {\"Effect\": \"Allow\", \"Action\": \"dynamodb:UpdateItem\", \"Resource\": f\"arn:aws:dynamodb:{region}:*:table/{table_name}\"}\n",
    "    ]\n",
    "}\n",
    "iam.put_role_policy(\n",
    "    RoleName=sf_role['Role']['RoleName'],\n",
    "    PolicyName=\"StepFuncInvokePolicy\",\n",
    "    PolicyDocument=json.dumps(policy)\n",
    ")\n",
    "print(f\"Created Step Functions IAM role: {sf_role_arn}\")"
   ]
  },
  {
   "cell_type": "markdown",
   "id": "f51b0a4f",
   "metadata": {},
   "source": [
    "### 1.8 Deploy Lambda Functions for Each Agent\n",
    "\n",
    "Below we package and deploy six agent Lambdas (Agent0 through Agent5) using inline Python code and boto3."
   ]
  },
  {
   "cell_type": "code",
   "execution_count": null,
   "id": "1d6c80bd",
   "metadata": {},
   "outputs": [],
   "source": [
    "import zipfile, io\n",
    "\n",
    "lambda_client = boto3.client('lambda', region_name=region)\n",
    "CLAUDE_MODEL = \"anthropic.claude-v2\"\n",
    "TITAN_MODEL = \"amazon.titan-text-express-v1\"\n",
    "\n",
    "def create_lambda_zip(code_str):\n",
    "    zip_buffer = io.BytesIO()\n",
    "    with zipfile.ZipFile(zip_buffer, 'w') as z:\n",
    "        z.writestr('lambda_function.py', code_str)\n",
    "    zip_buffer.seek(0)\n",
    "    return zip_buffer.read()\n",
    "\n",
    "# Define code for each agent (Agent0 to Agent5)\n",
    "agent_codes = []\n",
    "\n",
    "# Agent0: Input Extractor\n",
    "agent0 = r\"\"\"<... full agent0 python code as per above ...>\"\"\"\n",
    "agent_codes.append(agent0)\n",
    "\n",
    "# Agent1: Business Interpreter\n",
    "agent1 = r\"\"\"<... full agent1 python code as per above ...>\"\"\"\n",
    "agent_codes.append(agent1)\n",
    "\n",
    "# Agent2: Campaign Planner\n",
    "agent2 = r\"\"\"<... full agent2 python code as per above ...>\"\"\"\n",
    "agent_codes.append(agent2)\n",
    "\n",
    "# Agent3: Content Generator\n",
    "agent3 = r\"\"\"<... full agent3 python code as per above ...>\"\"\"\n",
    "agent_codes.append(agent3)\n",
    "\n",
    "# Agent4: Channel Strategist\n",
    "agent4 = r\"\"\"<... full agent4 python code as per above ...>\"\"\"\n",
    "agent_codes.append(agent4)\n",
    "\n",
    "# Agent5: Evaluator\n",
    "agent5 = r\"\"\"<... full agent5 python code as per above ...>\"\"\"\n",
    "agent_codes.append(agent5)\n",
    "\n",
    "# Deploy each Lambda\n",
    "for i, code in enumerate(agent_codes):\n",
    "    func_name = f\"CampaignAgent{i}-{suffix}\"\n",
    "    zip_bytes = create_lambda_zip(code)\n",
    "    try:\n",
    "        lambda_client.create_function(\n",
    "            FunctionName=func_name,\n",
    "            Runtime='python3.9',\n",
    "            Role=lambda_role_arn,\n",
    "            Handler='lambda_function.lambda_handler',\n",
    "            Code={'ZipFile': zip_bytes},\n",
    "            Timeout=60,\n",
    "            MemorySize=256,\n",
    "            Environment={'Variables': {\n",
    "                'DYNAMO_TABLE': table_name,\n",
    "                'ASSETS_BUCKET': assets_bucket,\n",
    "                'KENDRA_INDEX': index_id or \"\",\n",
    "                'SNS_TOPIC': topic_arn\n",
    "            }}\n",
    "        )\n",
    "        print(f\"Created Lambda: {func_name}\")\n",
    "    except Exception as e:\n",
    "        print(f\"Error creating {func_name}: {e}\")"
   ]
  },
  {
   "cell_type": "markdown",
   "id": "3ec4d6b5",
   "metadata": {},
   "source": [
    "### 1.9 Define Step Functions State Machine\n"
   ]
  },
  {
   "cell_type": "code",
   "execution_count": null,
   "id": "8d5f050f",
   "metadata": {},
   "outputs": [],
   "source": [
    "import json\n",
    "\n",
    "stepfunctions = boto3.client('stepfunctions', region_name=region)\n",
    "account_id = boto3.client('sts').get_caller_identity()['Account']\n",
    "lambda_arns = [f\"arn:aws:lambda:{region}:{account_id}:function:CampaignAgent{i}-{suffix}\" for i in range(6)]\n",
    "\n",
    "states = {}\n",
    "for i in range(6):\n",
    "    state_name = f\"Agent{i}Step\"\n",
    "    states[state_name] = {\n",
    "        \"Type\": \"Task\",\n",
    "        \"Resource\": lambda_arns[i],\n",
    "        \"Parameters\": {\"campaign_id.$\": \"$.campaign_id\"},\n",
    "        \"Retry\": [{\"ErrorEquals\": [\"Lambda.ServiceException\",\"Lambda.AWSLambdaException\",\"Lambda.SdkClientException\"], \"IntervalSeconds\": 2, \"MaxAttempts\": 3, \"BackoffRate\": 2.0}],\n",
    "        \"Catch\": [{\"ErrorEquals\": [\"States.ALL\"], \"ResultPath\": \"$.error\", \"Next\": \"FailureNotify\"}],\n",
    "        \"Next\": f\"Agent{i+1}Step\" if i < 5 else \"NotifySuccess\"\n",
    "    }\n",
    "\n",
    "states[\"NotifySuccess\"] = {\n",
    "    \"Type\": \"Task\",\n",
    "    \"Resource\": \"arn:aws:states:::aws-sdk:sns:publish\",\n",
    "    \"Parameters\": {\"TopicArn\": topic_arn, \"Message.$\": \"States.Format('Campaign {} completed.', $.campaign_id)\", \"Subject\": \"Campaign Success\"},\n",
    "    \"End\": True\n",
    "}\n",
    "states[\"FailureNotify\"] = {\n",
    "    \"Type\": \"Task\",\n",
    "    \"Resource\": \"arn:aws:states:::aws-sdk:sns:publish\",\n",
    "    \"Parameters\": {\"TopicArn\": topic_arn, \"Message.$\": \"States.Format('Campaign {} failed: {}', $.campaign_id, $.error.Error)\", \"Subject\": \"Campaign Failed\"},\n",
    "    \"End\": True\n",
    "}\n",
    "\n",
    "definition = {\"Comment\": \"Multi-agent AI Campaign Planning\", \"StartAt\": \"Agent0Step\", \"States\": states}\n",
    "\n",
    "sf_resp = stepfunctions.create_state_machine(\n",
    "    name=f\"CampaignPlannerWorkflow-{suffix}\",\n",
    "    definition=json.dumps(definition),\n",
    "    roleArn=sf_role_arn,\n",
    "    type='STANDARD'\n",
    ")\n",
    "print(f\"Created State Machine: {sf_resp['stateMachineArn']}\")"
   ]
  },
  {
   "cell_type": "markdown",
   "id": "8a6d4671",
   "metadata": {},
   "source": [
    "## 2. Running the Multi-Agent Campaign Planner\n",
    "\n",
    "Start a test execution using the dummy brief."
   ]
  },
  {
   "cell_type": "code",
   "execution_count": null,
   "id": "e2d05c17",
   "metadata": {},
   "outputs": [],
   "source": [
    "exec_resp = stepfunctions.start_execution(\n",
    "    stateMachineArn=sf_resp['stateMachineArn'],\n",
    "    input=json.dumps({\n",
    "        \"campaign_id\": campaign_brief[\"campaign_id\"],\n",
    "        \"brief_bucket\": briefs_bucket,\n",
    "        \"brief_key\": brief_key\n",
    "    })\n",
    ")\n",
    "print(f\"Started execution: {exec_resp['executionArn']}\")"
   ]
  },
  {
   "cell_type": "markdown",
   "id": "16f2ea8c",
   "metadata": {},
   "source": [
    "## 3. Templates for Generative Outputs\n",
    "\n",
    "**Gen-Z Content Template:**\n",
    "```\n",
    "Based on the campaign plan: '''{plan}''', generate 3 short social media posts in a casual, trendy voice with emojis and slang.\n",
    "```\n",
    "\n",
    "**Enterprise Content Template:**\n",
    "```\n",
    "Based on the campaign plan: '''{plan}''', generate 3 LinkedIn posts in a professional, authoritative tone, emphasizing ROI.\n",
    "```"
   ]
  },
  {
   "cell_type": "markdown",
   "id": "dc57443f",
   "metadata": {},
   "source": [
    "## 4. Error Handling, Logging, and Security Considerations\n",
    "\n",
    "- **Retries & Catch:** Step Functions retries on Lambda errors and catches to notify via SNS.\n",
    "- **Logging:** Each Lambda logs to CloudWatch. Step Functions execution history provides state transitions.\n",
    "- **Security:** IAM roles follow least privilege; environment variables for resource names."
   ]
  },
  {
   "cell_type": "markdown",
   "id": "2c78b199",
   "metadata": {},
   "source": [
    "### Clean Up (Optional)\n",
    "```python\n",
    "# Uncomment to delete resources\n",
    "# stepfunctions.delete_state_machine(stateMachineArn=sf_resp['stateMachineArn'])\n",
    "# for i in range(6): lambda_client.delete_function(FunctionName=f\"CampaignAgent{i}-{suffix}\")\n",
    "# dynamodb.delete_table(TableName=table_name)\n",
    "# sns.delete_topic(TopicArn=topic_arn)\n",
    "# kendra.delete_index(Id=index_id)\n",
    "# iam.delete_role(RoleName=lambda_role['Role']['RoleName'])\n",
    "# iam.delete_role(RoleName=sf_role['Role']['RoleName'])\n",
    "```"
   ]
  },
  {
   "cell_type": "markdown",
   "id": "4b5d86d4",
   "metadata": {},
   "source": [
    "## Conclusion\n",
    "\n",
    "This notebook deploys a scalable, production-ready, multi-agent AI campaign planning system on AWS, combining generative AI with serverless orchestration. It accelerates campaign ideation by fully automating brief parsing, strategy planning, content generation, channel selection, and evaluation."
   ]
  },
  {
   "cell_type": "markdown",
   "id": "8ec09333",
   "metadata": {},
   "source": [
    "## Sources\n",
    "\n",
    "- AWS ML Blog: Orchestrate generative AI workflows with Bedrock & Step Functions.\n",
    "- AWS Step Functions Documentation.\n",
    "- Amazon Bedrock Developer Guide.\n",
    "- Amazon Kendra Documentation."
   ]
  }
 ],
 "metadata": {},
 "nbformat": 4,
 "nbformat_minor": 5
}
