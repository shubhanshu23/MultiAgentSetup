{
 "cells": [
  {
   "cell_type": "markdown",
   "id": "0c23b191",
   "metadata": {},
   "source": [
    "\n",
    "# Multi-Agent AI Campaign Planning System on AWS\n",
    "\n",
    "This notebook provides comprehensive guidance and code to deploy a multi-agent AI campaign planning system using AWS (Bedrock, Lambda, DynamoDB, Step Functions, S3, and Kendra). It includes realistic dummy data and configurations to handle both Gen-Z and enterprise use cases.\n"
   ]
  },
  {
   "cell_type": "markdown",
   "id": "d34657a3",
   "metadata": {},
   "source": [
    "## 1. Setup AWS Environment"
   ]
  },
  {
   "cell_type": "code",
   "execution_count": null,
   "id": "2cb11a71",
   "metadata": {},
   "outputs": [],
   "source": [
    "\n",
    "import os\n",
    "\n",
    "os.environ['AWS_ACCESS_KEY_ID'] = 'YOUR_AWS_ACCESS_KEY'\n",
    "os.environ['AWS_SECRET_ACCESS_KEY'] = 'YOUR_AWS_SECRET_KEY'\n",
    "os.environ['AWS_DEFAULT_REGION'] = 'us-east-1'  # AWS region with Bedrock support\n"
   ]
  },
  {
   "cell_type": "markdown",
   "id": "200fe457",
   "metadata": {},
   "source": [
    "### Install Dependencies"
   ]
  },
  {
   "cell_type": "code",
   "execution_count": null,
   "id": "b9cd4f7c",
   "metadata": {},
   "outputs": [],
   "source": [
    "\n",
    "!pip install boto3\n"
   ]
  },
  {
   "cell_type": "markdown",
   "id": "8666fb00",
   "metadata": {},
   "source": [
    "## 2. Provision AWS Resources\n",
    "### 2.1 Create S3 Buckets"
   ]
  },
  {
   "cell_type": "code",
   "execution_count": null,
   "id": "3c3af1c2",
   "metadata": {},
   "outputs": [],
   "source": [
    "\n",
    "import boto3, json, random, string\n",
    "\n",
    "region = os.environ.get('AWS_DEFAULT_REGION', 'us-east-1')\n",
    "s3 = boto3.client('s3', region_name=region)\n",
    "\n",
    "suffix = ''.join(random.choice(string.ascii_lowercase + string.digits) for _ in range(6))\n",
    "briefs_bucket = f\"ai-campaign-briefs-{suffix}\"\n",
    "assets_bucket = f\"ai-campaign-assets-{suffix}\"\n",
    "\n",
    "for bucket in [briefs_bucket, assets_bucket]:\n",
    "    s3.create_bucket(Bucket=bucket, CreateBucketConfiguration={'LocationConstraint': region})\n",
    "    print(f\"Created bucket: {bucket}\")\n"
   ]
  },
  {
   "cell_type": "markdown",
   "id": "a675fc01",
   "metadata": {},
   "source": [
    "### 2.2 Create DynamoDB Table"
   ]
  },
  {
   "cell_type": "code",
   "execution_count": null,
   "id": "41a72fa8",
   "metadata": {},
   "outputs": [],
   "source": [
    "\n",
    "dynamodb = boto3.client('dynamodb', region_name=region)\n",
    "\n",
    "table_name = f\"AI_CampaignData_{suffix}\"\n",
    "dynamodb.create_table(\n",
    "    TableName=table_name,\n",
    "    AttributeDefinitions=[\n",
    "        {\"AttributeName\": \"campaign_id\", \"AttributeType\": \"S\"},\n",
    "        {\"AttributeName\": \"step\", \"AttributeType\": \"S\"}\n",
    "    ],\n",
    "    KeySchema=[\n",
    "        {\"AttributeName\": \"campaign_id\", \"KeyType\": \"HASH\"},\n",
    "        {\"AttributeName\": \"step\", \"KeyType\": \"RANGE\"}\n",
    "    ],\n",
    "    BillingMode='PAY_PER_REQUEST'\n",
    ")\n",
    "dynamodb.get_waiter('table_exists').wait(TableName=table_name)\n",
    "print(f\"DynamoDB Table created: {table_name}\")\n"
   ]
  },
  {
   "cell_type": "markdown",
   "id": "395b857f",
   "metadata": {},
   "source": [
    "### 2.3 Upload Dummy Brief to S3"
   ]
  },
  {
   "cell_type": "code",
   "execution_count": null,
   "id": "32a48f82",
   "metadata": {},
   "outputs": [],
   "source": [
    "\n",
    "campaign_brief = {\n",
    "    \"campaign_id\": \"CAMPAIGN123\",\n",
    "    \"campaign_name\": \"GenZ Social Hype 2025\",\n",
    "    \"target_audience\": \"Gen-Z\",\n",
    "    \"product\": \"Tech Gadget X\",\n",
    "    \"objectives\": \"Drive brand engagement among Gen-Z.\",\n",
    "    \"key_messages\": \"Innovative, trendy, community-driven.\",\n",
    "    \"channels\": \"social_media\",\n",
    "    \"timeline\": \"Q3 2025\",\n",
    "    \"budget\": \"50k USD\"\n",
    "}\n",
    "\n",
    "brief_key = \"sample_brief_genz.json\"\n",
    "s3.put_object(Bucket=briefs_bucket, Key=brief_key, Body=json.dumps(campaign_brief))\n",
    "print(f\"Uploaded brief to s3://{briefs_bucket}/{brief_key}\")\n"
   ]
  },
  {
   "cell_type": "markdown",
   "id": "f387246e",
   "metadata": {},
   "source": [
    "## 3. Validate Setup"
   ]
  },
  {
   "cell_type": "code",
   "execution_count": null,
   "id": "41154325",
   "metadata": {},
   "outputs": [],
   "source": [
    "\n",
    "print(\"Buckets:\", [bucket['Name'] for bucket in s3.list_buckets()['Buckets']])\n",
    "print(\"DynamoDB Tables:\", dynamodb.list_tables()['TableNames'])\n"
   ]
  },
  {
   "cell_type": "markdown",
   "id": "d7585e5c",
   "metadata": {},
   "source": [
    "\n",
    "## Next Steps\n",
    "\n",
    "After completing the above setup, continue to implement:\n",
    "\n",
    "- Lambda functions for each AI agent (Input Extractor, Business Interpreter, Planner, Content Generator, Channel Strategist, Evaluator).\n",
    "- AWS Step Functions workflow orchestration.\n",
    "- Amazon Kendra for a knowledge base.\n",
    "- Amazon SNS for notifications.\n",
    "- IAM roles and permissions.\n",
    "\n",
    "Ensure you handle AWS permissions correctly. Replace placeholders with secure methods like IAM roles.\n"
   ]
  }
 ],
 "metadata": {},
 "nbformat": 4,
 "nbformat_minor": 5
}
